{
 "cells": [
  {
   "cell_type": "code",
   "execution_count": null,
   "id": "f9d3eadc",
   "metadata": {},
   "outputs": [],
   "source": []
  },
  {
   "cell_type": "code",
   "execution_count": 1,
   "id": "4abee8a0",
   "metadata": {},
   "outputs": [
    {
     "name": "stdout",
     "output_type": "stream",
     "text": [
      "[2, 7, 6]\n",
      "[9, 5, 1]\n",
      "[4, 3, 8]\n"
     ]
    }
   ],
   "source": [
    "MAGIC_SUM = 15\n",
    "\n",
    "# Define the positions in a 3x3 grid that need to be filled\n",
    "grid_size = 3\n",
    "magic_square = [[0] * grid_size for _ in range(grid_size)]\n",
    "\n",
    "# Function to check if the current grid configuration is valid\n",
    "def is_valid():\n",
    "    # Check rows and columns\n",
    "    for i in range(grid_size):\n",
    "        if sum(magic_square[i]) != MAGIC_SUM:  # Check rows\n",
    "            return False\n",
    "        if sum(magic_square[j][i] for j in range(grid_size)) != MAGIC_SUM:  # Check columns\n",
    "            return False\n",
    "    \n",
    "    # Check diagonals\n",
    "    if sum(magic_square[i][i] for i in range(grid_size)) != MAGIC_SUM:  # Primary diagonal\n",
    "        return False\n",
    "    if sum(magic_square[i][grid_size - 1 - i] for i in range(grid_size)) != MAGIC_SUM:  \n",
    "        return False\n",
    "    \n",
    "    return True\n",
    "\n",
    "# Backtracking function \n",
    "def solve_magic_square(pos=0, used_numbers=set()):\n",
    "    if pos == grid_size * grid_size:  # All positions are filled\n",
    "        return is_valid()\n",
    "\n",
    "    r, c = divmod(pos, grid_size)  # Get row and column from position\n",
    "\n",
    "    \n",
    "    for num in range(1, 10):\n",
    "        if num not in used_numbers:  \n",
    "            magic_square[r][c] = num\n",
    "            used_numbers.add(num)\n",
    "\n",
    "            \n",
    "            if solve_magic_square(pos + 1, used_numbers):\n",
    "                return True\n",
    "\n",
    "            # Backtrack\n",
    "            magic_square[r][c] = 0\n",
    "            used_numbers.remove(num)\n",
    "\n",
    "    return False\n",
    "\n",
    "# Solve the magic square\n",
    "if solve_magic_square():\n",
    "    for row in magic_square:\n",
    "        print(row)\n",
    "else:\n",
    "    print(\"No solution found!\")\n",
    "\n"
   ]
  }
 ],
 "metadata": {
  "kernelspec": {
   "display_name": "Python 3 (ipykernel)",
   "language": "python",
   "name": "python3"
  },
  "language_info": {
   "codemirror_mode": {
    "name": "ipython",
    "version": 3
   },
   "file_extension": ".py",
   "mimetype": "text/x-python",
   "name": "python",
   "nbconvert_exporter": "python",
   "pygments_lexer": "ipython3",
   "version": "3.11.5"
  }
 },
 "nbformat": 4,
 "nbformat_minor": 5
}
